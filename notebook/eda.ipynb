{
 "cells": [
  {
   "cell_type": "code",
   "execution_count": null,
   "metadata": {},
   "outputs": [],
   "source": [
    "import polars as pl\n",
    "import matplotlib.pyplot as plt"
   ]
  },
  {
   "cell_type": "code",
   "execution_count": null,
   "metadata": {},
   "outputs": [],
   "source": [
    "data = pl.read_csv(\"../Team_Project_doc_data_24/train+test.csv\")\n",
    "submit = pl.read_csv(\"../Team_Project_doc_data_24/submit.csv\")"
   ]
  },
  {
   "cell_type": "code",
   "execution_count": null,
   "metadata": {},
   "outputs": [],
   "source": [
    "data.head()"
   ]
  },
  {
   "cell_type": "markdown",
   "metadata": {},
   "source": [
    "# 数値変数"
   ]
  },
  {
   "cell_type": "code",
   "execution_count": null,
   "metadata": {},
   "outputs": [],
   "source": [
    "def plot_hist(data, submit, col):\n",
    "    fig, ax = plt.subplots(1, 2, figsize=(12, 6))\n",
    "    ax[0].hist(data[col].to_numpy(), bins=50)\n",
    "    ax[0].set_title(f\"{col} train+test\")\n",
    "    ax[1].hist(submit[col].to_numpy(), bins=50)\n",
    "    ax[1].set_title(f\"{col} submit\")\n",
    "    plt.show()"
   ]
  },
  {
   "cell_type": "code",
   "execution_count": null,
   "metadata": {},
   "outputs": [],
   "source": [
    "plot_hist(data, submit, \"age\")"
   ]
  },
  {
   "cell_type": "code",
   "execution_count": null,
   "metadata": {},
   "outputs": [],
   "source": [
    "plot_hist(data, submit, \"campaign\")"
   ]
  },
  {
   "cell_type": "code",
   "execution_count": null,
   "metadata": {},
   "outputs": [],
   "source": [
    "# pdaysはカテゴリ変数として扱ってもよさそう\n",
    "# 例えば、999かそれ以外かで分ける\n",
    "plot_hist(data, submit, \"pdays\")"
   ]
  },
  {
   "cell_type": "code",
   "execution_count": null,
   "metadata": {},
   "outputs": [],
   "source": [
    "# これもカテゴリ変数として扱ってもよさそう\n",
    "plot_hist(data, submit, \"previous\")"
   ]
  },
  {
   "cell_type": "code",
   "execution_count": null,
   "metadata": {},
   "outputs": [],
   "source": [
    "plot_hist(data, submit, \"emp.var.rate\")"
   ]
  },
  {
   "cell_type": "code",
   "execution_count": null,
   "metadata": {},
   "outputs": [],
   "source": [
    "plot_hist(data, submit, \"cons.price.idx\")"
   ]
  },
  {
   "cell_type": "code",
   "execution_count": null,
   "metadata": {},
   "outputs": [],
   "source": [
    "plot_hist(data, submit, \"cons.conf.idx\")"
   ]
  },
  {
   "cell_type": "code",
   "execution_count": null,
   "metadata": {},
   "outputs": [],
   "source": [
    "plot_hist(data, submit, \"euribor3m\")"
   ]
  },
  {
   "cell_type": "code",
   "execution_count": null,
   "metadata": {},
   "outputs": [],
   "source": [
    "plot_hist(data, submit, \"nr.employed\")"
   ]
  },
  {
   "cell_type": "markdown",
   "metadata": {},
   "source": [
    "# カテゴリ変数"
   ]
  },
  {
   "cell_type": "code",
   "execution_count": null,
   "metadata": {},
   "outputs": [],
   "source": [
    "# カテゴリ変数でtrain_testとsubmitで差異があるか確認\n",
    "# 特にsubmitに入っていてtrain_testに入っていないものがあるか確認\n",
    "def check_diff(data, submit, col, reversed=False):\n",
    "    if reversed:\n",
    "        return set(data[col].unique().to_list()) - set(submit[col].unique().to_list())\n",
    "    else:\n",
    "        return set(submit[col].unique().to_list()) - set(data[col].unique().to_list())\n",
    "\n",
    "cat_cols = [col for col in data.columns if data[col].dtype == pl.String]\n",
    "cat_cols.remove(\"y\")\n",
    "for col in cat_cols:\n",
    "    print(col, check_diff(data, submit, col))\n",
    "print()\n",
    "print(\"reversed\")\n",
    "for col in cat_cols:\n",
    "    print(col, check_diff(data, submit, col, reversed=True))"
   ]
  },
  {
   "cell_type": "code",
   "execution_count": null,
   "metadata": {},
   "outputs": [],
   "source": [
    "# train_testにはyesのサンプルが1つ含まれている\n",
    "data[\"default\"].value_counts()"
   ]
  },
  {
   "cell_type": "code",
   "execution_count": null,
   "metadata": {},
   "outputs": [],
   "source": [
    "# カテゴリ変数ごとのユニーク数を確認\n",
    "# 極端にユニーク数が多い列はない\n",
    "for col in cat_cols:\n",
    "    print(col, data[col].n_unique())"
   ]
  },
  {
   "cell_type": "code",
   "execution_count": null,
   "metadata": {},
   "outputs": [],
   "source": []
  }
 ],
 "metadata": {
  "kernelspec": {
   "display_name": ".venv",
   "language": "python",
   "name": "python3"
  },
  "language_info": {
   "codemirror_mode": {
    "name": "ipython",
    "version": 3
   },
   "file_extension": ".py",
   "mimetype": "text/x-python",
   "name": "python",
   "nbconvert_exporter": "python",
   "pygments_lexer": "ipython3",
   "version": "3.11.5"
  }
 },
 "nbformat": 4,
 "nbformat_minor": 2
}
