{
 "cells": [
  {
   "cell_type": "code",
   "execution_count": null,
   "metadata": {},
   "outputs": [],
   "source": [
    "import sys\n",
    "\n",
    "import polars as pl\n",
    "\n",
    "sys.path.append(\"../src\")\n",
    "from preprocess import Preprocessor"
   ]
  },
  {
   "cell_type": "code",
   "execution_count": null,
   "metadata": {},
   "outputs": [],
   "source": [
    "# データの読み込み\n",
    "data = pl.read_csv(\"../Team_Project_doc_data_24/train+test.csv\")\n",
    "submit = pl.read_csv(\"../Team_Project_doc_data_24/submit.csv\")"
   ]
  },
  {
   "cell_type": "code",
   "execution_count": null,
   "metadata": {},
   "outputs": [],
   "source": [
    "# 前処理クラスの定義\n",
    "# scale=Trueで標準化、encodingでエンコーディングの方法を指定（\"onehot\" or \"label\"）\n",
    "preprocessor = Preprocessor(scale=True, encoding=\"onehot\")"
   ]
  },
  {
   "cell_type": "code",
   "execution_count": null,
   "metadata": {},
   "outputs": [],
   "source": [
    "# train_testに対して前処理を行う\n",
    "# 前処理後、目的変数列は除かれる点に注意\n",
    "transformed_data = preprocessor.preprocess_data(data)\n",
    "transformed_data.head()"
   ]
  },
  {
   "cell_type": "code",
   "execution_count": null,
   "metadata": {},
   "outputs": [],
   "source": [
    "# submitに対して前処理を行う\n",
    "transformed_submit = preprocessor.preprocess_data(submit, mode=\"test\")\n",
    "transformed_submit.head()"
   ]
  },
  {
   "cell_type": "code",
   "execution_count": null,
   "metadata": {},
   "outputs": [],
   "source": []
  }
 ],
 "metadata": {
  "kernelspec": {
   "display_name": ".venv",
   "language": "python",
   "name": "python3"
  },
  "language_info": {
   "codemirror_mode": {
    "name": "ipython",
    "version": 3
   },
   "file_extension": ".py",
   "mimetype": "text/x-python",
   "name": "python",
   "nbconvert_exporter": "python",
   "pygments_lexer": "ipython3",
   "version": "3.11.5"
  }
 },
 "nbformat": 4,
 "nbformat_minor": 2
}
