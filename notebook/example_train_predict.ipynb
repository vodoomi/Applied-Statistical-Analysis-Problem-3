{
 "cells": [
  {
   "cell_type": "code",
   "execution_count": 17,
   "metadata": {},
   "outputs": [],
   "source": [
    "import sys\n",
    "\n",
    "import numpy as np\n",
    "import pandas as pd\n",
    "import polars as pl\n",
    "\n",
    "sys.path.append(\"../src\")\n",
    "from preprocess import Preprocessor\n",
    "from model import Model\n",
    "from cfg import cfg"
   ]
  },
  {
   "cell_type": "code",
   "execution_count": 18,
   "metadata": {},
   "outputs": [],
   "source": [
    "# データの読み込み\n",
    "data = pl.read_csv(\"../Team_Project_doc_data_24/train+test.csv\")\n",
    "submit = pl.read_csv(\"../Team_Project_doc_data_24/submit.csv\")"
   ]
  },
  {
   "cell_type": "code",
   "execution_count": 19,
   "metadata": {},
   "outputs": [],
   "source": [
    "# 前処理クラスの定義\n",
    "# scale=Trueで標準化、encodingでエンコーディングの方法を指定（\"onehot\" or \"label\"）\n",
    "preprocessor = Preprocessor(scale=False, encoding=\"label\")"
   ]
  },
  {
   "cell_type": "code",
   "execution_count": 20,
   "metadata": {},
   "outputs": [
    {
     "data": {
      "text/html": [
       "<div><style>\n",
       ".dataframe > thead > tr,\n",
       ".dataframe > tbody > tr {\n",
       "  text-align: right;\n",
       "  white-space: pre-wrap;\n",
       "}\n",
       "</style>\n",
       "<small>shape: (5, 19)</small><table border=\"1\" class=\"dataframe\"><thead><tr><th>age</th><th>campaign</th><th>pdays</th><th>previous</th><th>emp.var.rate</th><th>cons.price.idx</th><th>cons.conf.idx</th><th>euribor3m</th><th>nr.employed</th><th>job</th><th>marital</th><th>education</th><th>default</th><th>housing</th><th>loan</th><th>contact</th><th>month</th><th>day_of_week</th><th>poutcome</th></tr><tr><td>i64</td><td>i64</td><td>i64</td><td>i64</td><td>f64</td><td>f64</td><td>f64</td><td>f64</td><td>f64</td><td>i32</td><td>i32</td><td>i32</td><td>i32</td><td>i32</td><td>i32</td><td>i32</td><td>i32</td><td>i32</td><td>i32</td></tr></thead><tbody><tr><td>47</td><td>2</td><td>999</td><td>0</td><td>-0.1</td><td>93.2</td><td>-42.0</td><td>4.021</td><td>5195.8</td><td>0</td><td>1</td><td>6</td><td>0</td><td>2</td><td>0</td><td>0</td><td>7</td><td>0</td><td>1</td></tr><tr><td>52</td><td>3</td><td>999</td><td>0</td><td>1.1</td><td>93.994</td><td>-36.4</td><td>4.857</td><td>5191.0</td><td>7</td><td>0</td><td>3</td><td>0</td><td>0</td><td>0</td><td>1</td><td>6</td><td>1</td><td>1</td></tr><tr><td>30</td><td>1</td><td>999</td><td>0</td><td>-0.1</td><td>93.2</td><td>-42.0</td><td>4.076</td><td>5195.8</td><td>0</td><td>2</td><td>2</td><td>0</td><td>0</td><td>0</td><td>1</td><td>7</td><td>2</td><td>1</td></tr><tr><td>28</td><td>2</td><td>999</td><td>1</td><td>-1.8</td><td>92.893</td><td>-46.2</td><td>1.344</td><td>5099.1</td><td>7</td><td>2</td><td>7</td><td>0</td><td>0</td><td>0</td><td>0</td><td>6</td><td>3</td><td>0</td></tr><tr><td>29</td><td>1</td><td>999</td><td>0</td><td>1.4</td><td>93.918</td><td>-42.7</td><td>4.961</td><td>5228.1</td><td>9</td><td>1</td><td>5</td><td>0</td><td>2</td><td>2</td><td>0</td><td>3</td><td>3</td><td>1</td></tr></tbody></table></div>"
      ],
      "text/plain": [
       "shape: (5, 19)\n",
       "┌─────┬──────────┬───────┬──────────┬───┬─────────┬───────┬─────────────┬──────────┐\n",
       "│ age ┆ campaign ┆ pdays ┆ previous ┆ … ┆ contact ┆ month ┆ day_of_week ┆ poutcome │\n",
       "│ --- ┆ ---      ┆ ---   ┆ ---      ┆   ┆ ---     ┆ ---   ┆ ---         ┆ ---      │\n",
       "│ i64 ┆ i64      ┆ i64   ┆ i64      ┆   ┆ i32     ┆ i32   ┆ i32         ┆ i32      │\n",
       "╞═════╪══════════╪═══════╪══════════╪═══╪═════════╪═══════╪═════════════╪══════════╡\n",
       "│ 47  ┆ 2        ┆ 999   ┆ 0        ┆ … ┆ 0       ┆ 7     ┆ 0           ┆ 1        │\n",
       "│ 52  ┆ 3        ┆ 999   ┆ 0        ┆ … ┆ 1       ┆ 6     ┆ 1           ┆ 1        │\n",
       "│ 30  ┆ 1        ┆ 999   ┆ 0        ┆ … ┆ 1       ┆ 7     ┆ 2           ┆ 1        │\n",
       "│ 28  ┆ 2        ┆ 999   ┆ 1        ┆ … ┆ 0       ┆ 6     ┆ 3           ┆ 0        │\n",
       "│ 29  ┆ 1        ┆ 999   ┆ 0        ┆ … ┆ 0       ┆ 3     ┆ 3           ┆ 1        │\n",
       "└─────┴──────────┴───────┴──────────┴───┴─────────┴───────┴─────────────┴──────────┘"
      ]
     },
     "execution_count": 20,
     "metadata": {},
     "output_type": "execute_result"
    }
   ],
   "source": [
    "# train_testに対して前処理を行う\n",
    "# 前処理後、目的変数列は除かれる点に注意\n",
    "transformed_data = preprocessor.preprocess_data(data)\n",
    "transformed_data.head()"
   ]
  },
  {
   "cell_type": "code",
   "execution_count": 21,
   "metadata": {},
   "outputs": [],
   "source": [
    "replace_map = {\"yes\": 1, \"no\": 0}\n",
    "data = data.with_columns(pl.col(\"y\").replace(replace_map).cast(pl.Int8))"
   ]
  },
  {
   "cell_type": "code",
   "execution_count": 22,
   "metadata": {},
   "outputs": [
    {
     "data": {
      "text/html": [
       "<div><style>\n",
       ".dataframe > thead > tr,\n",
       ".dataframe > tbody > tr {\n",
       "  text-align: right;\n",
       "  white-space: pre-wrap;\n",
       "}\n",
       "</style>\n",
       "<small>shape: (2, 2)</small><table border=\"1\" class=\"dataframe\"><thead><tr><th>y</th><th>count</th></tr><tr><td>i8</td><td>u32</td></tr></thead><tbody><tr><td>0</td><td>8887</td></tr><tr><td>1</td><td>1113</td></tr></tbody></table></div>"
      ],
      "text/plain": [
       "shape: (2, 2)\n",
       "┌─────┬───────┐\n",
       "│ y   ┆ count │\n",
       "│ --- ┆ ---   │\n",
       "│ i8  ┆ u32   │\n",
       "╞═════╪═══════╡\n",
       "│ 0   ┆ 8887  │\n",
       "│ 1   ┆ 1113  │\n",
       "└─────┴───────┘"
      ]
     },
     "execution_count": 22,
     "metadata": {},
     "output_type": "execute_result"
    }
   ],
   "source": [
    "data[\"y\"].value_counts()"
   ]
  },
  {
   "cell_type": "markdown",
   "metadata": {},
   "source": [
    "# LightGBM"
   ]
  },
  {
   "cell_type": "code",
   "execution_count": 23,
   "metadata": {},
   "outputs": [
    {
     "name": "stdout",
     "output_type": "stream",
     "text": [
      "Fold 0: 0.7846\n",
      "Fold 1: 0.8113\n",
      "Fold 2: 0.7931\n",
      "Fold 3: 0.8080\n",
      "Fold 4: 0.7973\n",
      "AUC: 0.7890\n",
      "F1: 0.4896\n"
     ]
    }
   ],
   "source": [
    "# モデルの定義\n",
    "model = Model(cfg.lgbm_params, model_type=\"lgb\")\n",
    "model.fit(transformed_data.to_pandas(), data[\"y\"].to_numpy())"
   ]
  },
  {
   "cell_type": "code",
   "execution_count": 24,
   "metadata": {},
   "outputs": [
    {
     "data": {
      "text/html": [
       "<div><style>\n",
       ".dataframe > thead > tr,\n",
       ".dataframe > tbody > tr {\n",
       "  text-align: right;\n",
       "  white-space: pre-wrap;\n",
       "}\n",
       "</style>\n",
       "<small>shape: (5, 19)</small><table border=\"1\" class=\"dataframe\"><thead><tr><th>age</th><th>campaign</th><th>pdays</th><th>previous</th><th>emp.var.rate</th><th>cons.price.idx</th><th>cons.conf.idx</th><th>euribor3m</th><th>nr.employed</th><th>job</th><th>marital</th><th>education</th><th>default</th><th>housing</th><th>loan</th><th>contact</th><th>month</th><th>day_of_week</th><th>poutcome</th></tr><tr><td>i64</td><td>i64</td><td>i64</td><td>i64</td><td>f64</td><td>f64</td><td>f64</td><td>f64</td><td>f64</td><td>i32</td><td>i32</td><td>i32</td><td>i32</td><td>i32</td><td>i32</td><td>i32</td><td>i32</td><td>i32</td><td>i32</td></tr></thead><tbody><tr><td>59</td><td>2</td><td>999</td><td>0</td><td>1.1</td><td>93.994</td><td>-36.4</td><td>4.857</td><td>5191.0</td><td>5</td><td>1</td><td>5</td><td>1</td><td>0</td><td>0</td><td>1</td><td>6</td><td>1</td><td>1</td></tr><tr><td>29</td><td>1</td><td>999</td><td>0</td><td>1.4</td><td>93.918</td><td>-42.7</td><td>4.962</td><td>5228.1</td><td>0</td><td>1</td><td>3</td><td>0</td><td>2</td><td>0</td><td>0</td><td>3</td><td>3</td><td>1</td></tr><tr><td>58</td><td>8</td><td>999</td><td>0</td><td>1.4</td><td>93.918</td><td>-42.7</td><td>4.961</td><td>5228.1</td><td>5</td><td>1</td><td>5</td><td>1</td><td>0</td><td>0</td><td>1</td><td>3</td><td>3</td><td>1</td></tr><tr><td>35</td><td>1</td><td>999</td><td>0</td><td>-0.1</td><td>93.2</td><td>-42.0</td><td>4.021</td><td>5195.8</td><td>4</td><td>1</td><td>6</td><td>0</td><td>2</td><td>0</td><td>0</td><td>7</td><td>0</td><td>1</td></tr><tr><td>34</td><td>4</td><td>999</td><td>0</td><td>1.4</td><td>93.444</td><td>-36.1</td><td>4.963</td><td>5228.1</td><td>9</td><td>1</td><td>5</td><td>1</td><td>2</td><td>0</td><td>0</td><td>1</td><td>2</td><td>1</td></tr></tbody></table></div>"
      ],
      "text/plain": [
       "shape: (5, 19)\n",
       "┌─────┬──────────┬───────┬──────────┬───┬─────────┬───────┬─────────────┬──────────┐\n",
       "│ age ┆ campaign ┆ pdays ┆ previous ┆ … ┆ contact ┆ month ┆ day_of_week ┆ poutcome │\n",
       "│ --- ┆ ---      ┆ ---   ┆ ---      ┆   ┆ ---     ┆ ---   ┆ ---         ┆ ---      │\n",
       "│ i64 ┆ i64      ┆ i64   ┆ i64      ┆   ┆ i32     ┆ i32   ┆ i32         ┆ i32      │\n",
       "╞═════╪══════════╪═══════╪══════════╪═══╪═════════╪═══════╪═════════════╪══════════╡\n",
       "│ 59  ┆ 2        ┆ 999   ┆ 0        ┆ … ┆ 1       ┆ 6     ┆ 1           ┆ 1        │\n",
       "│ 29  ┆ 1        ┆ 999   ┆ 0        ┆ … ┆ 0       ┆ 3     ┆ 3           ┆ 1        │\n",
       "│ 58  ┆ 8        ┆ 999   ┆ 0        ┆ … ┆ 1       ┆ 3     ┆ 3           ┆ 1        │\n",
       "│ 35  ┆ 1        ┆ 999   ┆ 0        ┆ … ┆ 0       ┆ 7     ┆ 0           ┆ 1        │\n",
       "│ 34  ┆ 4        ┆ 999   ┆ 0        ┆ … ┆ 0       ┆ 1     ┆ 2           ┆ 1        │\n",
       "└─────┴──────────┴───────┴──────────┴───┴─────────┴───────┴─────────────┴──────────┘"
      ]
     },
     "execution_count": 24,
     "metadata": {},
     "output_type": "execute_result"
    }
   ],
   "source": [
    "# submitに対して前処理を行う\n",
    "transformed_submit = preprocessor.preprocess_data(submit, mode=\"test\")\n",
    "transformed_submit.head()"
   ]
  },
  {
   "cell_type": "code",
   "execution_count": 25,
   "metadata": {},
   "outputs": [],
   "source": [
    "# 予測\n",
    "y_prob, y_pred = model.predict(transformed_submit.to_pandas())\n",
    "y_pred = [\"yes\" if i == 1 else \"no\" for i in y_pred]\n",
    "submit = submit.with_columns(\n",
    "    pl.Series(\"probability of yes (or score)\", y_prob),\n",
    "    pl.Series(\"y (yes or no)  \", y_pred),\n",
    ")"
   ]
  },
  {
   "cell_type": "code",
   "execution_count": 26,
   "metadata": {},
   "outputs": [
    {
     "data": {
      "text/html": [
       "<div><style>\n",
       ".dataframe > thead > tr,\n",
       ".dataframe > tbody > tr {\n",
       "  text-align: right;\n",
       "  white-space: pre-wrap;\n",
       "}\n",
       "</style>\n",
       "<small>shape: (5, 21)</small><table border=\"1\" class=\"dataframe\"><thead><tr><th>age</th><th>job</th><th>marital</th><th>education</th><th>default</th><th>housing</th><th>loan</th><th>contact</th><th>month</th><th>day_of_week</th><th>campaign</th><th>pdays</th><th>previous</th><th>poutcome</th><th>emp.var.rate</th><th>cons.price.idx</th><th>cons.conf.idx</th><th>euribor3m</th><th>nr.employed</th><th>y (yes or no)  </th><th>probability of yes (or score)</th></tr><tr><td>i64</td><td>str</td><td>str</td><td>str</td><td>str</td><td>str</td><td>str</td><td>str</td><td>str</td><td>str</td><td>i64</td><td>i64</td><td>i64</td><td>str</td><td>f64</td><td>f64</td><td>f64</td><td>f64</td><td>f64</td><td>str</td><td>f32</td></tr></thead><tbody><tr><td>59</td><td>&quot;retired&quot;</td><td>&quot;married&quot;</td><td>&quot;professional.course&quot;</td><td>&quot;unknown&quot;</td><td>&quot;no&quot;</td><td>&quot;no&quot;</td><td>&quot;telephone&quot;</td><td>&quot;may&quot;</td><td>&quot;mon&quot;</td><td>2</td><td>999</td><td>0</td><td>&quot;nonexistent&quot;</td><td>1.1</td><td>93.994</td><td>-36.4</td><td>4.857</td><td>5191.0</td><td>&quot;no&quot;</td><td>0.037189</td></tr><tr><td>29</td><td>&quot;admin.&quot;</td><td>&quot;married&quot;</td><td>&quot;high.school&quot;</td><td>&quot;no&quot;</td><td>&quot;yes&quot;</td><td>&quot;no&quot;</td><td>&quot;cellular&quot;</td><td>&quot;jul&quot;</td><td>&quot;tue&quot;</td><td>1</td><td>999</td><td>0</td><td>&quot;nonexistent&quot;</td><td>1.4</td><td>93.918</td><td>-42.7</td><td>4.962</td><td>5228.1</td><td>&quot;no&quot;</td><td>0.068227</td></tr><tr><td>58</td><td>&quot;retired&quot;</td><td>&quot;married&quot;</td><td>&quot;professional.course&quot;</td><td>&quot;unknown&quot;</td><td>&quot;no&quot;</td><td>&quot;no&quot;</td><td>&quot;telephone&quot;</td><td>&quot;jul&quot;</td><td>&quot;tue&quot;</td><td>8</td><td>999</td><td>0</td><td>&quot;nonexistent&quot;</td><td>1.4</td><td>93.918</td><td>-42.7</td><td>4.961</td><td>5228.1</td><td>&quot;no&quot;</td><td>0.045656</td></tr><tr><td>35</td><td>&quot;management&quot;</td><td>&quot;married&quot;</td><td>&quot;university.degree&quot;</td><td>&quot;no&quot;</td><td>&quot;yes&quot;</td><td>&quot;no&quot;</td><td>&quot;cellular&quot;</td><td>&quot;nov&quot;</td><td>&quot;fri&quot;</td><td>1</td><td>999</td><td>0</td><td>&quot;nonexistent&quot;</td><td>-0.1</td><td>93.2</td><td>-42.0</td><td>4.021</td><td>5195.8</td><td>&quot;no&quot;</td><td>0.086182</td></tr><tr><td>34</td><td>&quot;technician&quot;</td><td>&quot;married&quot;</td><td>&quot;professional.course&quot;</td><td>&quot;unknown&quot;</td><td>&quot;yes&quot;</td><td>&quot;no&quot;</td><td>&quot;cellular&quot;</td><td>&quot;aug&quot;</td><td>&quot;thu&quot;</td><td>4</td><td>999</td><td>0</td><td>&quot;nonexistent&quot;</td><td>1.4</td><td>93.444</td><td>-36.1</td><td>4.963</td><td>5228.1</td><td>&quot;no&quot;</td><td>0.076053</td></tr></tbody></table></div>"
      ],
      "text/plain": [
       "shape: (5, 21)\n",
       "┌─────┬────────────┬─────────┬─────────────┬───┬───────────┬─────────────┬────────────┬────────────┐\n",
       "│ age ┆ job        ┆ marital ┆ education   ┆ … ┆ euribor3m ┆ nr.employed ┆ y (yes or  ┆ probabilit │\n",
       "│ --- ┆ ---        ┆ ---     ┆ ---         ┆   ┆ ---       ┆ ---         ┆ no)        ┆ y of yes   │\n",
       "│ i64 ┆ str        ┆ str     ┆ str         ┆   ┆ f64       ┆ f64         ┆ ---        ┆ (or score) │\n",
       "│     ┆            ┆         ┆             ┆   ┆           ┆             ┆ str        ┆ ---        │\n",
       "│     ┆            ┆         ┆             ┆   ┆           ┆             ┆            ┆ f32        │\n",
       "╞═════╪════════════╪═════════╪═════════════╪═══╪═══════════╪═════════════╪════════════╪════════════╡\n",
       "│ 59  ┆ retired    ┆ married ┆ professiona ┆ … ┆ 4.857     ┆ 5191.0      ┆ no         ┆ 0.037189   │\n",
       "│     ┆            ┆         ┆ l.course    ┆   ┆           ┆             ┆            ┆            │\n",
       "│ 29  ┆ admin.     ┆ married ┆ high.school ┆ … ┆ 4.962     ┆ 5228.1      ┆ no         ┆ 0.068227   │\n",
       "│ 58  ┆ retired    ┆ married ┆ professiona ┆ … ┆ 4.961     ┆ 5228.1      ┆ no         ┆ 0.045656   │\n",
       "│     ┆            ┆         ┆ l.course    ┆   ┆           ┆             ┆            ┆            │\n",
       "│ 35  ┆ management ┆ married ┆ university. ┆ … ┆ 4.021     ┆ 5195.8      ┆ no         ┆ 0.086182   │\n",
       "│     ┆            ┆         ┆ degree      ┆   ┆           ┆             ┆            ┆            │\n",
       "│ 34  ┆ technician ┆ married ┆ professiona ┆ … ┆ 4.963     ┆ 5228.1      ┆ no         ┆ 0.076053   │\n",
       "│     ┆            ┆         ┆ l.course    ┆   ┆           ┆             ┆            ┆            │\n",
       "└─────┴────────────┴─────────┴─────────────┴───┴───────────┴─────────────┴────────────┴────────────┘"
      ]
     },
     "execution_count": 26,
     "metadata": {},
     "output_type": "execute_result"
    }
   ],
   "source": [
    "submit.head()"
   ]
  },
  {
   "cell_type": "markdown",
   "metadata": {},
   "source": [
    "# CatBoost"
   ]
  },
  {
   "cell_type": "code",
   "execution_count": 33,
   "metadata": {},
   "outputs": [
    {
     "name": "stdout",
     "output_type": "stream",
     "text": [
      "0:\ttest: 0.7446899\tbest: 0.7446899 (0)\ttotal: 175ms\tremaining: 29m 12s\n",
      "Stopped by overfitting detector  (100 iterations wait)\n",
      "\n",
      "bestTest = 0.7753258039\n",
      "bestIteration = 21\n",
      "\n",
      "Shrink model to first 22 iterations.\n",
      "Fold 0: 0.7753\n",
      "0:\ttest: 0.7362509\tbest: 0.7362509 (0)\ttotal: 17.9ms\tremaining: 2m 59s\n",
      "Stopped by overfitting detector  (100 iterations wait)\n",
      "\n",
      "bestTest = 0.8170887423\n",
      "bestIteration = 36\n",
      "\n",
      "Shrink model to first 37 iterations.\n",
      "Fold 1: 0.8171\n",
      "0:\ttest: 0.7515627\tbest: 0.7515627 (0)\ttotal: 15ms\tremaining: 2m 30s\n",
      "Stopped by overfitting detector  (100 iterations wait)\n",
      "\n",
      "bestTest = 0.7966681892\n",
      "bestIteration = 43\n",
      "\n",
      "Shrink model to first 44 iterations.\n",
      "Fold 2: 0.7967\n",
      "0:\ttest: 0.7485647\tbest: 0.7485647 (0)\ttotal: 29.7ms\tremaining: 4m 57s\n",
      "250:\ttest: 0.8044167\tbest: 0.8054665 (195)\ttotal: 4.82s\tremaining: 3m 7s\n",
      "Stopped by overfitting detector  (100 iterations wait)\n",
      "\n",
      "bestTest = 0.8078562398\n",
      "bestIteration = 287\n",
      "\n",
      "Shrink model to first 288 iterations.\n",
      "Fold 3: 0.8079\n",
      "0:\ttest: 0.7225876\tbest: 0.7225876 (0)\ttotal: 15.6ms\tremaining: 2m 36s\n",
      "Stopped by overfitting detector  (100 iterations wait)\n",
      "\n",
      "bestTest = 0.7875708795\n",
      "bestIteration = 74\n",
      "\n",
      "Shrink model to first 75 iterations.\n",
      "Fold 4: 0.7876\n",
      "AUC: 0.7949\n",
      "F1: 0.4863\n"
     ]
    }
   ],
   "source": [
    "# モデルの定義\n",
    "cat_cols = [col for col in data.columns if data[col].dtype == pl.String]\n",
    "model = Model(cfg.cat_params, model_type=\"catboost\", categorical_cols=cat_cols)\n",
    "model.fit(transformed_data.to_pandas(), data[\"y\"].to_numpy())"
   ]
  },
  {
   "cell_type": "code",
   "execution_count": 34,
   "metadata": {},
   "outputs": [],
   "source": [
    "# 予測\n",
    "y_prob, y_pred = model.predict(transformed_submit.to_pandas())\n",
    "y_pred = [\"yes\" if i == 1 else \"no\" for i in y_pred]\n",
    "submit = submit.with_columns(\n",
    "    pl.Series(\"probability of yes (or score)\", y_prob),\n",
    "    pl.Series(\"y (yes or no)  \", y_pred),\n",
    ")"
   ]
  },
  {
   "cell_type": "code",
   "execution_count": 35,
   "metadata": {},
   "outputs": [
    {
     "data": {
      "text/html": [
       "<div><style>\n",
       ".dataframe > thead > tr,\n",
       ".dataframe > tbody > tr {\n",
       "  text-align: right;\n",
       "  white-space: pre-wrap;\n",
       "}\n",
       "</style>\n",
       "<small>shape: (5, 21)</small><table border=\"1\" class=\"dataframe\"><thead><tr><th>age</th><th>job</th><th>marital</th><th>education</th><th>default</th><th>housing</th><th>loan</th><th>contact</th><th>month</th><th>day_of_week</th><th>campaign</th><th>pdays</th><th>previous</th><th>poutcome</th><th>emp.var.rate</th><th>cons.price.idx</th><th>cons.conf.idx</th><th>euribor3m</th><th>nr.employed</th><th>y (yes or no)  </th><th>probability of yes (or score)</th></tr><tr><td>i64</td><td>str</td><td>str</td><td>str</td><td>str</td><td>str</td><td>str</td><td>str</td><td>str</td><td>str</td><td>i64</td><td>i64</td><td>i64</td><td>str</td><td>f64</td><td>f64</td><td>f64</td><td>f64</td><td>f64</td><td>str</td><td>f32</td></tr></thead><tbody><tr><td>59</td><td>&quot;retired&quot;</td><td>&quot;married&quot;</td><td>&quot;professional.course&quot;</td><td>&quot;unknown&quot;</td><td>&quot;no&quot;</td><td>&quot;no&quot;</td><td>&quot;telephone&quot;</td><td>&quot;may&quot;</td><td>&quot;mon&quot;</td><td>2</td><td>999</td><td>0</td><td>&quot;nonexistent&quot;</td><td>1.1</td><td>93.994</td><td>-36.4</td><td>4.857</td><td>5191.0</td><td>&quot;no&quot;</td><td>0.034427</td></tr><tr><td>29</td><td>&quot;admin.&quot;</td><td>&quot;married&quot;</td><td>&quot;high.school&quot;</td><td>&quot;no&quot;</td><td>&quot;yes&quot;</td><td>&quot;no&quot;</td><td>&quot;cellular&quot;</td><td>&quot;jul&quot;</td><td>&quot;tue&quot;</td><td>1</td><td>999</td><td>0</td><td>&quot;nonexistent&quot;</td><td>1.4</td><td>93.918</td><td>-42.7</td><td>4.962</td><td>5228.1</td><td>&quot;no&quot;</td><td>0.070402</td></tr><tr><td>58</td><td>&quot;retired&quot;</td><td>&quot;married&quot;</td><td>&quot;professional.course&quot;</td><td>&quot;unknown&quot;</td><td>&quot;no&quot;</td><td>&quot;no&quot;</td><td>&quot;telephone&quot;</td><td>&quot;jul&quot;</td><td>&quot;tue&quot;</td><td>8</td><td>999</td><td>0</td><td>&quot;nonexistent&quot;</td><td>1.4</td><td>93.918</td><td>-42.7</td><td>4.961</td><td>5228.1</td><td>&quot;no&quot;</td><td>0.039274</td></tr><tr><td>35</td><td>&quot;management&quot;</td><td>&quot;married&quot;</td><td>&quot;university.degree&quot;</td><td>&quot;no&quot;</td><td>&quot;yes&quot;</td><td>&quot;no&quot;</td><td>&quot;cellular&quot;</td><td>&quot;nov&quot;</td><td>&quot;fri&quot;</td><td>1</td><td>999</td><td>0</td><td>&quot;nonexistent&quot;</td><td>-0.1</td><td>93.2</td><td>-42.0</td><td>4.021</td><td>5195.8</td><td>&quot;no&quot;</td><td>0.075668</td></tr><tr><td>34</td><td>&quot;technician&quot;</td><td>&quot;married&quot;</td><td>&quot;professional.course&quot;</td><td>&quot;unknown&quot;</td><td>&quot;yes&quot;</td><td>&quot;no&quot;</td><td>&quot;cellular&quot;</td><td>&quot;aug&quot;</td><td>&quot;thu&quot;</td><td>4</td><td>999</td><td>0</td><td>&quot;nonexistent&quot;</td><td>1.4</td><td>93.444</td><td>-36.1</td><td>4.963</td><td>5228.1</td><td>&quot;no&quot;</td><td>0.064705</td></tr></tbody></table></div>"
      ],
      "text/plain": [
       "shape: (5, 21)\n",
       "┌─────┬────────────┬─────────┬─────────────┬───┬───────────┬─────────────┬────────────┬────────────┐\n",
       "│ age ┆ job        ┆ marital ┆ education   ┆ … ┆ euribor3m ┆ nr.employed ┆ y (yes or  ┆ probabilit │\n",
       "│ --- ┆ ---        ┆ ---     ┆ ---         ┆   ┆ ---       ┆ ---         ┆ no)        ┆ y of yes   │\n",
       "│ i64 ┆ str        ┆ str     ┆ str         ┆   ┆ f64       ┆ f64         ┆ ---        ┆ (or score) │\n",
       "│     ┆            ┆         ┆             ┆   ┆           ┆             ┆ str        ┆ ---        │\n",
       "│     ┆            ┆         ┆             ┆   ┆           ┆             ┆            ┆ f32        │\n",
       "╞═════╪════════════╪═════════╪═════════════╪═══╪═══════════╪═════════════╪════════════╪════════════╡\n",
       "│ 59  ┆ retired    ┆ married ┆ professiona ┆ … ┆ 4.857     ┆ 5191.0      ┆ no         ┆ 0.034427   │\n",
       "│     ┆            ┆         ┆ l.course    ┆   ┆           ┆             ┆            ┆            │\n",
       "│ 29  ┆ admin.     ┆ married ┆ high.school ┆ … ┆ 4.962     ┆ 5228.1      ┆ no         ┆ 0.070402   │\n",
       "│ 58  ┆ retired    ┆ married ┆ professiona ┆ … ┆ 4.961     ┆ 5228.1      ┆ no         ┆ 0.039274   │\n",
       "│     ┆            ┆         ┆ l.course    ┆   ┆           ┆             ┆            ┆            │\n",
       "│ 35  ┆ management ┆ married ┆ university. ┆ … ┆ 4.021     ┆ 5195.8      ┆ no         ┆ 0.075668   │\n",
       "│     ┆            ┆         ┆ degree      ┆   ┆           ┆             ┆            ┆            │\n",
       "│ 34  ┆ technician ┆ married ┆ professiona ┆ … ┆ 4.963     ┆ 5228.1      ┆ no         ┆ 0.064705   │\n",
       "│     ┆            ┆         ┆ l.course    ┆   ┆           ┆             ┆            ┆            │\n",
       "└─────┴────────────┴─────────┴─────────────┴───┴───────────┴─────────────┴────────────┴────────────┘"
      ]
     },
     "execution_count": 35,
     "metadata": {},
     "output_type": "execute_result"
    }
   ],
   "source": [
    "submit.head()"
   ]
  },
  {
   "cell_type": "code",
   "execution_count": null,
   "metadata": {},
   "outputs": [],
   "source": []
  }
 ],
 "metadata": {
  "kernelspec": {
   "display_name": ".venv",
   "language": "python",
   "name": "python3"
  },
  "language_info": {
   "codemirror_mode": {
    "name": "ipython",
    "version": 3
   },
   "file_extension": ".py",
   "mimetype": "text/x-python",
   "name": "python",
   "nbconvert_exporter": "python",
   "pygments_lexer": "ipython3",
   "version": "3.11.5"
  }
 },
 "nbformat": 4,
 "nbformat_minor": 2
}
