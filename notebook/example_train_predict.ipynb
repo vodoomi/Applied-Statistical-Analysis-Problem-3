{
 "cells": [
  {
   "cell_type": "code",
   "execution_count": null,
   "metadata": {},
   "outputs": [],
   "source": [
    "import sys\n",
    "\n",
    "import numpy as np\n",
    "import pandas as pd\n",
    "import polars as pl\n",
    "\n",
    "sys.path.append(\"../src\")\n",
    "from preprocess import Preprocessor\n",
    "from model import Model\n",
    "from cfg import cfg"
   ]
  },
  {
   "cell_type": "code",
   "execution_count": null,
   "metadata": {},
   "outputs": [],
   "source": [
    "# データの読み込み\n",
    "data = pl.read_csv(\"../Team_Project_doc_data_24/train+test.csv\")\n",
    "submit = pl.read_csv(\"../Team_Project_doc_data_24/submit.csv\")"
   ]
  },
  {
   "cell_type": "code",
   "execution_count": null,
   "metadata": {},
   "outputs": [],
   "source": [
    "# 前処理クラスの定義\n",
    "# scale=Trueで標準化、encodingでエンコーディングの方法を指定（\"onehot\" or \"label\"）\n",
    "preprocessor = Preprocessor(scale=False, encoding=\"label\")"
   ]
  },
  {
   "cell_type": "code",
   "execution_count": null,
   "metadata": {},
   "outputs": [],
   "source": [
    "# train_testに対して前処理を行う\n",
    "# 前処理後、目的変数列は除かれる点に注意\n",
    "transformed_data = preprocessor.preprocess_data(data)\n",
    "transformed_data.head()"
   ]
  },
  {
   "cell_type": "code",
   "execution_count": null,
   "metadata": {},
   "outputs": [],
   "source": [
    "replace_map = {\"yes\": 1, \"no\": 0}\n",
    "data = data.with_columns(pl.col(\"y\").replace(replace_map).cast(pl.Int8))"
   ]
  },
  {
   "cell_type": "code",
   "execution_count": null,
   "metadata": {},
   "outputs": [],
   "source": [
    "data[\"y\"].value_counts()"
   ]
  },
  {
   "cell_type": "markdown",
   "metadata": {},
   "source": [
    "# LightGBM"
   ]
  },
  {
   "cell_type": "code",
   "execution_count": null,
   "metadata": {},
   "outputs": [],
   "source": [
    "# モデルの定義\n",
    "model = Model(cfg.lgbm_params, model_type=\"lgb\")\n",
    "model.fit(transformed_data.to_pandas(), data[\"y\"].to_numpy())"
   ]
  },
  {
   "cell_type": "code",
   "execution_count": null,
   "metadata": {},
   "outputs": [],
   "source": [
    "# submitに対して前処理を行う\n",
    "transformed_submit = preprocessor.preprocess_data(submit, mode=\"test\")\n",
    "transformed_submit.head()"
   ]
  },
  {
   "cell_type": "code",
   "execution_count": null,
   "metadata": {},
   "outputs": [],
   "source": [
    "# 予測\n",
    "y_prob, y_pred = model.predict(transformed_submit.to_pandas())\n",
    "y_pred = [\"yes\" if i == 1 else \"no\" for i in y_pred]\n",
    "submit = submit.with_columns(\n",
    "    pl.Series(\"probability of yes (or score)\", y_prob),\n",
    "    pl.Series(\"y (yes or no)  \", y_pred),\n",
    ")"
   ]
  },
  {
   "cell_type": "code",
   "execution_count": null,
   "metadata": {},
   "outputs": [],
   "source": [
    "submit.head()"
   ]
  },
  {
   "cell_type": "markdown",
   "metadata": {},
   "source": [
    "# CatBoost"
   ]
  },
  {
   "cell_type": "code",
   "execution_count": null,
   "metadata": {},
   "outputs": [],
   "source": [
    "# モデルの定義\n",
    "cat_cols = [col for col in data.columns if data[col].dtype == pl.String]\n",
    "model = Model(cfg.cat_params, model_type=\"catboost\", categorical_cols=cat_cols)\n",
    "model.fit(transformed_data.to_pandas(), data[\"y\"].to_numpy())"
   ]
  },
  {
   "cell_type": "code",
   "execution_count": null,
   "metadata": {},
   "outputs": [],
   "source": [
    "# 予測\n",
    "y_prob, y_pred = model.predict(transformed_submit.to_pandas())\n",
    "y_pred = [\"yes\" if i == 1 else \"no\" for i in y_pred]\n",
    "submit = submit.with_columns(\n",
    "    pl.Series(\"probability of yes (or score)\", y_prob),\n",
    "    pl.Series(\"y (yes or no)  \", y_pred),\n",
    ")"
   ]
  },
  {
   "cell_type": "code",
   "execution_count": null,
   "metadata": {},
   "outputs": [],
   "source": [
    "submit.head()"
   ]
  },
  {
   "cell_type": "code",
   "execution_count": null,
   "metadata": {},
   "outputs": [],
   "source": []
  }
 ],
 "metadata": {
  "kernelspec": {
   "display_name": ".venv",
   "language": "python",
   "name": "python3"
  },
  "language_info": {
   "codemirror_mode": {
    "name": "ipython",
    "version": 3
   },
   "file_extension": ".py",
   "mimetype": "text/x-python",
   "name": "python",
   "nbconvert_exporter": "python",
   "pygments_lexer": "ipython3",
   "version": "3.11.5"
  }
 },
 "nbformat": 4,
 "nbformat_minor": 2
}
