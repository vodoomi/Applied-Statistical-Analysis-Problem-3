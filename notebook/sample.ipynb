{
 "cells": [
  {
   "cell_type": "code",
   "execution_count": 1,
   "metadata": {},
   "outputs": [],
   "source": [
    "import sys\n",
    "\n",
    "import polars as pl\n",
    "\n",
    "sys.path.append(\"../src\")\n",
    "from preprocess import Preprocessor"
   ]
  },
  {
   "cell_type": "code",
   "execution_count": null,
   "metadata": {},
   "outputs": [],
   "source": [
    "# データの読み込み\n",
    "data = pl.read_csv(\"../Team_Project_doc_data_24/train+test.csv\")\n",
    "submit = pl.read_csv(\"../Team_Project_doc_data_24/submit.csv\")"
   ]
  },
  {
   "cell_type": "code",
   "execution_count": null,
   "metadata": {},
   "outputs": [],
   "source": [
    "# 前処理クラスの定義\n",
    "# scale=Trueで標準化、encodingでエンコーディングの方法を指定（\"onehot\" or \"label\"）\n",
    "preprocessor = Preprocessor(scale=True, encoding=\"onehot\")"
   ]
  },
  {
   "cell_type": "code",
   "execution_count": null,
   "metadata": {},
   "outputs": [
    {
     "data": {
      "text/html": [
       "<div><style>\n",
       ".dataframe > thead > tr,\n",
       ".dataframe > tbody > tr {\n",
       "  text-align: right;\n",
       "  white-space: pre-wrap;\n",
       "}\n",
       "</style>\n",
       "<small>shape: (5, 51)</small><table border=\"1\" class=\"dataframe\"><thead><tr><th>age</th><th>campaign</th><th>pdays</th><th>previous</th><th>emp.var.rate</th><th>cons.price.idx</th><th>cons.conf.idx</th><th>euribor3m</th><th>nr.employed</th><th>job_blue-collar</th><th>job_entrepreneur</th><th>job_housemaid</th><th>job_management</th><th>job_retired</th><th>job_self-employed</th><th>job_services</th><th>job_student</th><th>job_technician</th><th>job_unemployed</th><th>job_unknown</th><th>marital_divorced</th><th>marital_single</th><th>marital_unknown</th><th>education_basic.4y</th><th>education_basic.6y</th><th>education_basic.9y</th><th>education_high.school</th><th>education_illiterate</th><th>education_professional.course</th><th>education_unknown</th><th>default_unknown</th><th>housing_no</th><th>housing_unknown</th><th>loan_unknown</th><th>loan_yes</th><th>contact_telephone</th><th>month_apr</th><th>month_aug</th><th>month_dec</th><th>month_jul</th><th>month_jun</th><th>month_mar</th><th>month_may</th><th>month_oct</th><th>month_sep</th><th>day_of_week_mon</th><th>day_of_week_thu</th><th>day_of_week_tue</th><th>day_of_week_wed</th><th>poutcome_failure</th><th>poutcome_success</th></tr><tr><td>f64</td><td>f64</td><td>f64</td><td>f64</td><td>f64</td><td>f64</td><td>f64</td><td>f64</td><td>f64</td><td>u8</td><td>u8</td><td>u8</td><td>u8</td><td>u8</td><td>u8</td><td>u8</td><td>u8</td><td>u8</td><td>u8</td><td>u8</td><td>u8</td><td>u8</td><td>u8</td><td>u8</td><td>u8</td><td>u8</td><td>u8</td><td>u8</td><td>u8</td><td>u8</td><td>u8</td><td>u8</td><td>u8</td><td>u8</td><td>u8</td><td>u8</td><td>u8</td><td>u8</td><td>u8</td><td>u8</td><td>u8</td><td>u8</td><td>u8</td><td>u8</td><td>u8</td><td>u8</td><td>u8</td><td>u8</td><td>u8</td><td>u8</td><td>u8</td></tr></thead><tbody><tr><td>0.679128</td><td>-0.199166</td><td>0.188461</td><td>-0.353323</td><td>-0.107174</td><td>-0.640969</td><td>-0.309891</td><td>0.240655</td><td>0.408114</td><td>0</td><td>0</td><td>0</td><td>0</td><td>0</td><td>0</td><td>0</td><td>0</td><td>0</td><td>0</td><td>0</td><td>0</td><td>0</td><td>0</td><td>0</td><td>0</td><td>0</td><td>0</td><td>0</td><td>0</td><td>0</td><td>0</td><td>0</td><td>0</td><td>0</td><td>0</td><td>0</td><td>0</td><td>0</td><td>0</td><td>0</td><td>0</td><td>0</td><td>0</td><td>0</td><td>0</td><td>0</td><td>0</td><td>0</td><td>0</td><td>0</td><td>0</td></tr><tr><td>1.160117</td><td>0.18085</td><td>0.188461</td><td>-0.353323</td><td>0.6589</td><td>0.728959</td><td>0.898613</td><td>0.722057</td><td>0.341697</td><td>0</td><td>0</td><td>0</td><td>0</td><td>0</td><td>0</td><td>1</td><td>0</td><td>0</td><td>0</td><td>0</td><td>1</td><td>0</td><td>0</td><td>0</td><td>0</td><td>0</td><td>1</td><td>0</td><td>0</td><td>0</td><td>0</td><td>1</td><td>0</td><td>0</td><td>0</td><td>1</td><td>0</td><td>0</td><td>0</td><td>0</td><td>0</td><td>0</td><td>1</td><td>0</td><td>0</td><td>1</td><td>0</td><td>0</td><td>0</td><td>0</td><td>0</td></tr><tr><td>-0.956235</td><td>-0.579183</td><td>0.188461</td><td>-0.353323</td><td>-0.107174</td><td>-0.640969</td><td>-0.309891</td><td>0.272326</td><td>0.408114</td><td>0</td><td>0</td><td>0</td><td>0</td><td>0</td><td>0</td><td>0</td><td>0</td><td>0</td><td>0</td><td>0</td><td>0</td><td>1</td><td>0</td><td>0</td><td>0</td><td>1</td><td>0</td><td>0</td><td>0</td><td>0</td><td>0</td><td>1</td><td>0</td><td>0</td><td>0</td><td>1</td><td>0</td><td>0</td><td>0</td><td>0</td><td>0</td><td>0</td><td>0</td><td>0</td><td>0</td><td>0</td><td>1</td><td>0</td><td>0</td><td>0</td><td>0</td></tr><tr><td>-1.148631</td><td>-0.199166</td><td>0.188461</td><td>1.677269</td><td>-1.192446</td><td>-1.170652</td><td>-1.216268</td><td>-1.300868</td><td>-0.929913</td><td>0</td><td>0</td><td>0</td><td>0</td><td>0</td><td>0</td><td>1</td><td>0</td><td>0</td><td>0</td><td>0</td><td>0</td><td>1</td><td>0</td><td>0</td><td>0</td><td>0</td><td>0</td><td>0</td><td>0</td><td>1</td><td>0</td><td>1</td><td>0</td><td>0</td><td>0</td><td>0</td><td>0</td><td>0</td><td>0</td><td>0</td><td>0</td><td>0</td><td>1</td><td>0</td><td>0</td><td>0</td><td>0</td><td>1</td><td>0</td><td>1</td><td>0</td></tr><tr><td>-1.052433</td><td>-0.579183</td><td>0.188461</td><td>-0.353323</td><td>0.850419</td><td>0.597832</td><td>-0.460954</td><td>0.781945</td><td>0.855046</td><td>0</td><td>0</td><td>0</td><td>0</td><td>0</td><td>0</td><td>0</td><td>0</td><td>1</td><td>0</td><td>0</td><td>0</td><td>0</td><td>0</td><td>0</td><td>0</td><td>0</td><td>0</td><td>0</td><td>1</td><td>0</td><td>0</td><td>0</td><td>0</td><td>0</td><td>1</td><td>0</td><td>0</td><td>0</td><td>0</td><td>1</td><td>0</td><td>0</td><td>0</td><td>0</td><td>0</td><td>0</td><td>0</td><td>1</td><td>0</td><td>0</td><td>0</td></tr></tbody></table></div>"
      ],
      "text/plain": [
       "shape: (5, 51)\n",
       "┌───────────┬───────────┬──────────┬───────────┬───┬───────────┬───────────┬───────────┬───────────┐\n",
       "│ age       ┆ campaign  ┆ pdays    ┆ previous  ┆ … ┆ day_of_we ┆ day_of_we ┆ poutcome_ ┆ poutcome_ │\n",
       "│ ---       ┆ ---       ┆ ---      ┆ ---       ┆   ┆ ek_tue    ┆ ek_wed    ┆ failure   ┆ success   │\n",
       "│ f64       ┆ f64       ┆ f64      ┆ f64       ┆   ┆ ---       ┆ ---       ┆ ---       ┆ ---       │\n",
       "│           ┆           ┆          ┆           ┆   ┆ u8        ┆ u8        ┆ u8        ┆ u8        │\n",
       "╞═══════════╪═══════════╪══════════╪═══════════╪═══╪═══════════╪═══════════╪═══════════╪═══════════╡\n",
       "│ 0.679128  ┆ -0.199166 ┆ 0.188461 ┆ -0.353323 ┆ … ┆ 0         ┆ 0         ┆ 0         ┆ 0         │\n",
       "│ 1.160117  ┆ 0.18085   ┆ 0.188461 ┆ -0.353323 ┆ … ┆ 0         ┆ 0         ┆ 0         ┆ 0         │\n",
       "│ -0.956235 ┆ -0.579183 ┆ 0.188461 ┆ -0.353323 ┆ … ┆ 0         ┆ 0         ┆ 0         ┆ 0         │\n",
       "│ -1.148631 ┆ -0.199166 ┆ 0.188461 ┆ 1.677269  ┆ … ┆ 1         ┆ 0         ┆ 1         ┆ 0         │\n",
       "│ -1.052433 ┆ -0.579183 ┆ 0.188461 ┆ -0.353323 ┆ … ┆ 1         ┆ 0         ┆ 0         ┆ 0         │\n",
       "└───────────┴───────────┴──────────┴───────────┴───┴───────────┴───────────┴───────────┴───────────┘"
      ]
     },
     "execution_count": 4,
     "metadata": {},
     "output_type": "execute_result"
    }
   ],
   "source": [
    "# train_testに対して前処理を行う\n",
    "# 前処理後、目的変数列は除かれる点に注意\n",
    "transformed_data = preprocessor.preprocess_data(data)\n",
    "transformed_data.head()"
   ]
  },
  {
   "cell_type": "code",
   "execution_count": 5,
   "metadata": {},
   "outputs": [
    {
     "data": {
      "text/html": [
       "<div><style>\n",
       ".dataframe > thead > tr,\n",
       ".dataframe > tbody > tr {\n",
       "  text-align: right;\n",
       "  white-space: pre-wrap;\n",
       "}\n",
       "</style>\n",
       "<small>shape: (5, 51)</small><table border=\"1\" class=\"dataframe\"><thead><tr><th>age</th><th>campaign</th><th>pdays</th><th>previous</th><th>emp.var.rate</th><th>cons.price.idx</th><th>cons.conf.idx</th><th>euribor3m</th><th>nr.employed</th><th>job_blue-collar</th><th>job_entrepreneur</th><th>job_housemaid</th><th>job_management</th><th>job_retired</th><th>job_self-employed</th><th>job_services</th><th>job_student</th><th>job_technician</th><th>job_unemployed</th><th>job_unknown</th><th>marital_divorced</th><th>marital_single</th><th>marital_unknown</th><th>education_basic.4y</th><th>education_basic.6y</th><th>education_basic.9y</th><th>education_high.school</th><th>education_illiterate</th><th>education_professional.course</th><th>education_unknown</th><th>default_unknown</th><th>housing_no</th><th>housing_unknown</th><th>loan_unknown</th><th>loan_yes</th><th>contact_telephone</th><th>month_apr</th><th>month_aug</th><th>month_dec</th><th>month_jul</th><th>month_jun</th><th>month_mar</th><th>month_may</th><th>month_oct</th><th>month_sep</th><th>day_of_week_mon</th><th>day_of_week_thu</th><th>day_of_week_tue</th><th>day_of_week_wed</th><th>poutcome_failure</th><th>poutcome_success</th></tr><tr><td>f64</td><td>f64</td><td>f64</td><td>f64</td><td>f64</td><td>f64</td><td>f64</td><td>f64</td><td>f64</td><td>u8</td><td>u8</td><td>u8</td><td>u8</td><td>u8</td><td>u8</td><td>u8</td><td>u8</td><td>u8</td><td>u8</td><td>u8</td><td>u8</td><td>u8</td><td>u8</td><td>u8</td><td>u8</td><td>u8</td><td>u8</td><td>u8</td><td>u8</td><td>u8</td><td>u8</td><td>u8</td><td>u8</td><td>u8</td><td>u8</td><td>u8</td><td>u8</td><td>u8</td><td>u8</td><td>u8</td><td>u8</td><td>u8</td><td>u8</td><td>u8</td><td>u8</td><td>u8</td><td>u8</td><td>u8</td><td>u8</td><td>u8</td><td>u8</td></tr></thead><tbody><tr><td>1.833502</td><td>-0.199166</td><td>0.188461</td><td>-0.353323</td><td>0.6589</td><td>0.728959</td><td>0.898613</td><td>0.722057</td><td>0.341697</td><td>0</td><td>0</td><td>0</td><td>0</td><td>1</td><td>0</td><td>0</td><td>0</td><td>0</td><td>0</td><td>0</td><td>0</td><td>0</td><td>0</td><td>0</td><td>0</td><td>0</td><td>0</td><td>0</td><td>1</td><td>0</td><td>1</td><td>1</td><td>0</td><td>0</td><td>0</td><td>1</td><td>0</td><td>0</td><td>0</td><td>0</td><td>0</td><td>0</td><td>1</td><td>0</td><td>0</td><td>1</td><td>0</td><td>0</td><td>0</td><td>0</td><td>0</td></tr><tr><td>-1.052433</td><td>-0.579183</td><td>0.188461</td><td>-0.353323</td><td>0.850419</td><td>0.597832</td><td>-0.460954</td><td>0.78252</td><td>0.855046</td><td>0</td><td>0</td><td>0</td><td>0</td><td>0</td><td>0</td><td>0</td><td>0</td><td>0</td><td>0</td><td>0</td><td>0</td><td>0</td><td>0</td><td>0</td><td>0</td><td>0</td><td>1</td><td>0</td><td>0</td><td>0</td><td>0</td><td>0</td><td>0</td><td>0</td><td>0</td><td>0</td><td>0</td><td>0</td><td>0</td><td>1</td><td>0</td><td>0</td><td>0</td><td>0</td><td>0</td><td>0</td><td>0</td><td>1</td><td>0</td><td>0</td><td>0</td></tr><tr><td>1.737304</td><td>2.08093</td><td>0.188461</td><td>-0.353323</td><td>0.850419</td><td>0.597832</td><td>-0.460954</td><td>0.781945</td><td>0.855046</td><td>0</td><td>0</td><td>0</td><td>0</td><td>1</td><td>0</td><td>0</td><td>0</td><td>0</td><td>0</td><td>0</td><td>0</td><td>0</td><td>0</td><td>0</td><td>0</td><td>0</td><td>0</td><td>0</td><td>1</td><td>0</td><td>1</td><td>1</td><td>0</td><td>0</td><td>0</td><td>1</td><td>0</td><td>0</td><td>0</td><td>1</td><td>0</td><td>0</td><td>0</td><td>0</td><td>0</td><td>0</td><td>0</td><td>1</td><td>0</td><td>0</td><td>0</td></tr><tr><td>-0.475246</td><td>-0.579183</td><td>0.188461</td><td>-0.353323</td><td>-0.107174</td><td>-0.640969</td><td>-0.309891</td><td>0.240655</td><td>0.408114</td><td>0</td><td>0</td><td>0</td><td>1</td><td>0</td><td>0</td><td>0</td><td>0</td><td>0</td><td>0</td><td>0</td><td>0</td><td>0</td><td>0</td><td>0</td><td>0</td><td>0</td><td>0</td><td>0</td><td>0</td><td>0</td><td>0</td><td>0</td><td>0</td><td>0</td><td>0</td><td>0</td><td>0</td><td>0</td><td>0</td><td>0</td><td>0</td><td>0</td><td>0</td><td>0</td><td>0</td><td>0</td><td>0</td><td>0</td><td>0</td><td>0</td><td>0</td></tr><tr><td>-0.571444</td><td>0.560866</td><td>0.188461</td><td>-0.353323</td><td>0.850419</td><td>-0.219984</td><td>0.963354</td><td>0.783096</td><td>0.855046</td><td>0</td><td>0</td><td>0</td><td>0</td><td>0</td><td>0</td><td>0</td><td>0</td><td>1</td><td>0</td><td>0</td><td>0</td><td>0</td><td>0</td><td>0</td><td>0</td><td>0</td><td>0</td><td>0</td><td>1</td><td>0</td><td>1</td><td>0</td><td>0</td><td>0</td><td>0</td><td>0</td><td>0</td><td>1</td><td>0</td><td>0</td><td>0</td><td>0</td><td>0</td><td>0</td><td>0</td><td>0</td><td>1</td><td>0</td><td>0</td><td>0</td><td>0</td></tr></tbody></table></div>"
      ],
      "text/plain": [
       "shape: (5, 51)\n",
       "┌───────────┬───────────┬──────────┬───────────┬───┬───────────┬───────────┬───────────┬───────────┐\n",
       "│ age       ┆ campaign  ┆ pdays    ┆ previous  ┆ … ┆ day_of_we ┆ day_of_we ┆ poutcome_ ┆ poutcome_ │\n",
       "│ ---       ┆ ---       ┆ ---      ┆ ---       ┆   ┆ ek_tue    ┆ ek_wed    ┆ failure   ┆ success   │\n",
       "│ f64       ┆ f64       ┆ f64      ┆ f64       ┆   ┆ ---       ┆ ---       ┆ ---       ┆ ---       │\n",
       "│           ┆           ┆          ┆           ┆   ┆ u8        ┆ u8        ┆ u8        ┆ u8        │\n",
       "╞═══════════╪═══════════╪══════════╪═══════════╪═══╪═══════════╪═══════════╪═══════════╪═══════════╡\n",
       "│ 1.833502  ┆ -0.199166 ┆ 0.188461 ┆ -0.353323 ┆ … ┆ 0         ┆ 0         ┆ 0         ┆ 0         │\n",
       "│ -1.052433 ┆ -0.579183 ┆ 0.188461 ┆ -0.353323 ┆ … ┆ 1         ┆ 0         ┆ 0         ┆ 0         │\n",
       "│ 1.737304  ┆ 2.08093   ┆ 0.188461 ┆ -0.353323 ┆ … ┆ 1         ┆ 0         ┆ 0         ┆ 0         │\n",
       "│ -0.475246 ┆ -0.579183 ┆ 0.188461 ┆ -0.353323 ┆ … ┆ 0         ┆ 0         ┆ 0         ┆ 0         │\n",
       "│ -0.571444 ┆ 0.560866  ┆ 0.188461 ┆ -0.353323 ┆ … ┆ 0         ┆ 0         ┆ 0         ┆ 0         │\n",
       "└───────────┴───────────┴──────────┴───────────┴───┴───────────┴───────────┴───────────┴───────────┘"
      ]
     },
     "execution_count": 5,
     "metadata": {},
     "output_type": "execute_result"
    }
   ],
   "source": [
    "# submitに対して前処理を行う\n",
    "transformed_submit = preprocessor.preprocess_data(submit, mode=\"test\")\n",
    "transformed_submit.head()"
   ]
  },
  {
   "cell_type": "code",
   "execution_count": null,
   "metadata": {},
   "outputs": [],
   "source": []
  }
 ],
 "metadata": {
  "kernelspec": {
   "display_name": ".venv",
   "language": "python",
   "name": "python3"
  },
  "language_info": {
   "codemirror_mode": {
    "name": "ipython",
    "version": 3
   },
   "file_extension": ".py",
   "mimetype": "text/x-python",
   "name": "python",
   "nbconvert_exporter": "python",
   "pygments_lexer": "ipython3",
   "version": "3.11.5"
  }
 },
 "nbformat": 4,
 "nbformat_minor": 2
}
